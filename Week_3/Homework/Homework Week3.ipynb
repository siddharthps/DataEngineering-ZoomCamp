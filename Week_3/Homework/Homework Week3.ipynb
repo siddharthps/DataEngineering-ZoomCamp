{
 "cells": [
  {
   "cell_type": "markdown",
   "metadata": {},
   "source": [
    "### Question 1"
   ]
  },
  {
   "cell_type": "markdown",
   "metadata": {},
   "source": [
    "What is count of records for the 2024 Yellow Taxi Data?"
   ]
  },
  {
   "cell_type": "markdown",
   "metadata": {},
   "source": [
    "```sql\n",
    "SELECT COUNT(*) AS record_count \n",
    "FROM `ny-bike-rides-siddharth.zoomcamp.yellow_tripdata_2024`\n",
    "```"
   ]
  },
  {
   "cell_type": "markdown",
   "metadata": {},
   "source": [
    "20,332,093 records were found in the 2024 Yellow Taxi Data. This is option 3."
   ]
  },
  {
   "cell_type": "markdown",
   "metadata": {},
   "source": [
    "### Question 2"
   ]
  },
  {
   "cell_type": "markdown",
   "metadata": {},
   "source": [
    "Write a query to count the distinct number of PULocationIDs for the entire dataset on both the tables.\\\n",
    "What is the estimated amount of data that will be read when this query is executed on the External Table and the Table?"
   ]
  },
  {
   "cell_type": "markdown",
   "metadata": {},
   "source": [
    "```sql\n",
    "SELECT COUNT(DISTINCT PULocationID) FROM `ny-bike-rides-siddharth.zoomcamp.yellow_tripdata_2024` AS bq_table_distinct_PULocationIDs\n",
    "SELECT COUNT(DISTINCT PULocationID) FROM `ny-bike-rides-siddharth.zoomcamp.yellow_tripdata_2024_external` AS bq_table_external_distinct_PULocationIDs\n",
    "```"
   ]
  },
  {
   "cell_type": "markdown",
   "metadata": {},
   "source": [
    "The query executor shows that the estimated amount of data that will be read when this query is executed on the External Table is 0.00 B and on the Materialized Table is 155.12 MB. This is option 2."
   ]
  },
  {
   "cell_type": "markdown",
   "metadata": {},
   "source": [
    "### Question 3"
   ]
  },
  {
   "cell_type": "markdown",
   "metadata": {},
   "source": [
    "Write a query to retrieve the PULocationID from the table (not the external table) in BigQuery. Now write a query to retrieve the PULocationID and DOLocationID on the same table. Why are the estimated number of Bytes different?"
   ]
  },
  {
   "cell_type": "markdown",
   "metadata": {},
   "source": [
    "```sql\n",
    "SELECT PULocationID \n",
    "FROM `ny-bike-rides-siddharth.zoomcamp.yellow_tripdata_2024`;\n",
    "SELECT PULocationID, DOLocationID \n",
    "FROM `ny-bike-rides-siddharth.zoomcamp.yellow_tripdata_2024`;\n",
    "```"
   ]
  },
  {
   "cell_type": "markdown",
   "metadata": {
    "vscode": {
     "languageId": "plaintext"
    }
   },
   "source": [
    "The first query takes 155.12 MB and the second one will process 310.24 MB which is exactly the double amount of the first one . "
   ]
  },
  {
   "cell_type": "markdown",
   "metadata": {},
   "source": [
    "This is because Big Query is a columnar database and it reads data in columns. When we add a new column to the query, it will read the data from the disk again. This is option 1."
   ]
  },
  {
   "cell_type": "markdown",
   "metadata": {},
   "source": [
    "### Question 4"
   ]
  },
  {
   "cell_type": "markdown",
   "metadata": {},
   "source": [
    "How many records have a fare_amount of 0?"
   ]
  },
  {
   "cell_type": "markdown",
   "metadata": {},
   "source": [
    "```sql\n",
    "SELECT COUNT(*) AS zero_fare_count\n",
    "FROM `ny-bike-rides-siddharth.zoomcamp.yellow_tripdata_2024`\n",
    "WHERE fare_amount = 0;\n",
    "```"
   ]
  },
  {
   "cell_type": "markdown",
   "metadata": {
    "vscode": {
     "languageId": "plaintext"
    }
   },
   "source": [
    "The answer is 8333 which corresponds to option 4"
   ]
  },
  {
   "cell_type": "markdown",
   "metadata": {},
   "source": [
    "### Question 5"
   ]
  },
  {
   "cell_type": "markdown",
   "metadata": {},
   "source": [
    "What is the best strategy to make an optimized table in Big Query if your query will always filter based on tpep_dropoff_datetime and order the results by VendorID (Create a new table with this strategy"
   ]
  },
  {
   "cell_type": "markdown",
   "metadata": {},
   "source": [
    "```sql\n",
    "CREATE OR REPLACE TABLE `ny-bike-rides-siddharth.zoomcamp.yellow_tripdata_2024_optimized`\n",
    "PARTITION BY DATE(tpep_dropoff_datetime)\n",
    "CLUSTER BY VendorID\n",
    "AS \n",
    "SELECT * FROM `ny-bike-rides-siddharth.zoomcamp.yellow_tripdata_2024`;\n",
    "```"
   ]
  },
  {
   "cell_type": "markdown",
   "metadata": {},
   "source": [
    "The strategy is to partition the table by the date of the tpep_dropoff_datetime column and cluster the table by the VendorID column. This is option 1."
   ]
  },
  {
   "cell_type": "markdown",
   "metadata": {},
   "source": [
    "### Question 6"
   ]
  },
  {
   "cell_type": "markdown",
   "metadata": {},
   "source": [
    "Write a query to retrieve the distinct VendorIDs between tpep_dropoff_datetime 03/01/2024 and 03/15/2024 (inclusive)\n",
    "\n",
    "Use the materialized table you created earlier in your from clause and note the estimated bytes. Now change the table in the from clause to the partitioned table you created for question 4 and note the estimated bytes processed. What are these values?"
   ]
  },
  {
   "cell_type": "markdown",
   "metadata": {},
   "source": [
    "```sql\n",
    "SELECT DISTINCT VendorID\n",
    "FROM `ny-bike-rides-siddharth.zoomcamp.yellow_tripdata_2024`\n",
    "WHERE tpep_dropoff_datetime BETWEEN '2024-03-01' AND '2024-03-15';\n",
    "```\n",
    "```sql\n",
    "SELECT DISTINCT VendorID\n",
    "FROM `ny-bike-rides-siddharth.zoomcamp.yellow_tripdata_2024_optimized`\n",
    "WHERE tpep_dropoff_datetime BETWEEN '2024-03-01' AND '2024-03-15';\n",
    "```"
   ]
  },
  {
   "cell_type": "markdown",
   "metadata": {},
   "source": [
    "The Materialized Table query will process 310.24 MB and the Partitioned Table query will process 26.84 MB. This is option 2."
   ]
  },
  {
   "cell_type": "markdown",
   "metadata": {},
   "source": [
    "### Question 7"
   ]
  },
  {
   "cell_type": "markdown",
   "metadata": {
    "vscode": {
     "languageId": "plaintext"
    }
   },
   "source": [
    "Where is the data stored in the External Table you created?"
   ]
  },
  {
   "cell_type": "markdown",
   "metadata": {},
   "source": [
    "The data is stored in Google Cloud Storage Bucket. This is option 3."
   ]
  },
  {
   "cell_type": "markdown",
   "metadata": {},
   "source": [
    "### Question 8"
   ]
  },
  {
   "cell_type": "markdown",
   "metadata": {},
   "source": [
    "It is best practice in Big Query to always cluster your data: True or False?"
   ]
  },
  {
   "cell_type": "markdown",
   "metadata": {},
   "source": [
    "In Big Query, it is not always best practice to cluster your data.  This is False and option 2."
   ]
  },
  {
   "cell_type": "markdown",
   "metadata": {},
   "source": [
    "### Bonus Question"
   ]
  },
  {
   "cell_type": "markdown",
   "metadata": {},
   "source": [
    " Write a SELECT count(*) query FROM the materialized table you created. How many bytes does it estimate will be read? Why? "
   ]
  },
  {
   "cell_type": "markdown",
   "metadata": {},
   "source": [
    "In the very first question we counted all the records in the materialized table. That query was cached and so the SELECT count(*) query will read 0.00 B."
   ]
  }
 ],
 "metadata": {
  "language_info": {
   "name": "python"
  }
 },
 "nbformat": 4,
 "nbformat_minor": 2
}
