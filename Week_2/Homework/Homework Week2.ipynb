{
 "cells": [
  {
   "cell_type": "markdown",
   "metadata": {},
   "source": [
    "### Question 1"
   ]
  },
  {
   "cell_type": "markdown",
   "metadata": {},
   "source": [
    "Within the execution for Yellow Taxi data for the year 2020 and month 12: what is the uncompressed file size (i.e. the output file yellow_tripdata_2020-12.csv of the extract task)?"
   ]
  },
  {
   "cell_type": "markdown",
   "metadata": {
    "vscode": {
     "languageId": "plaintext"
    }
   },
   "source": [
    "The csv file is 128.3 MB in size - Option 1"
   ]
  },
  {
   "cell_type": "markdown",
   "metadata": {},
   "source": [
    "### Question 2"
   ]
  },
  {
   "cell_type": "markdown",
   "metadata": {},
   "source": [
    "What is the rendered value of the variable file when the inputs taxi is set to green, year is set to 2020, and month is set to 04 during execution?"
   ]
  },
  {
   "cell_type": "markdown",
   "metadata": {
    "vscode": {
     "languageId": "plaintext"
    }
   },
   "source": [
    "green_tripdata_2020-04.csv - Option 2"
   ]
  },
  {
   "cell_type": "markdown",
   "metadata": {},
   "source": [
    "### Question 3"
   ]
  },
  {
   "cell_type": "markdown",
   "metadata": {},
   "source": [
    "How many rows are there for the Yellow Taxi data for all CSV files in the year 2020?"
   ]
  },
  {
   "cell_type": "markdown",
   "metadata": {
    "vscode": {
     "languageId": "plaintext"
    }
   },
   "source": [
    "```sql \n",
    "SELECT COUNT(*) \n",
    "FROM `ny-bike-rides-siddharth.zoomcamp.yellow_tripdata` \n",
    "WHERE SPLIT(filename, '_')[2] LIKE \"2020%\";\n",
    "```"
   ]
  },
  {
   "cell_type": "markdown",
   "metadata": {},
   "source": [
    "The number of rows are 24,648,499 - Option 2"
   ]
  },
  {
   "cell_type": "markdown",
   "metadata": {},
   "source": [
    "### Question 4"
   ]
  },
  {
   "cell_type": "markdown",
   "metadata": {},
   "source": [
    "How many rows are there for the Green Taxi data for all CSV files in the year 2020?"
   ]
  },
  {
   "cell_type": "markdown",
   "metadata": {},
   "source": [
    "```sql\n",
    "SELECT COUNT(*) \n",
    "FROM `ny-bike-rides-siddharth.zoomcamp.green_tripdata` \n",
    "WHERE SPLIT(filename, '_')[2] LIKE \"2020%\";\n",
    "```"
   ]
  },
  {
   "cell_type": "markdown",
   "metadata": {},
   "source": [
    "The number of rows are 1,734,051 - Option 3"
   ]
  },
  {
   "cell_type": "markdown",
   "metadata": {},
   "source": [
    "### Question 5"
   ]
  },
  {
   "cell_type": "markdown",
   "metadata": {},
   "source": [
    "How many rows are there for the Yellow Taxi data for the March 2021 CSV file?"
   ]
  },
  {
   "cell_type": "markdown",
   "metadata": {},
   "source": [
    "```sql\n",
    "SELECT COUNT(*) \n",
    "FROM `ny-bike-rides-siddharth.zoomcamp.yellow_tripdata` \n",
    "WHERE SPLIT(SPLIT(filename, '_')[2], '-')[0] = \"2021\" \n",
    "AND SPLIT(SPLIT(filename, '_')[2], '-')[1] LIKE \"03%\";\n",
    "```"
   ]
  },
  {
   "cell_type": "markdown",
   "metadata": {},
   "source": [
    "The number of rows are 1,925,152 - Option 3"
   ]
  },
  {
   "cell_type": "markdown",
   "metadata": {},
   "source": [
    "### Question 6"
   ]
  },
  {
   "cell_type": "markdown",
   "metadata": {},
   "source": [
    "How would you configure the timezone to New York in a Schedule trigger?"
   ]
  },
  {
   "cell_type": "markdown",
   "metadata": {
    "vscode": {
     "languageId": "plaintext"
    }
   },
   "source": [
    "The following is the documentation for the schedule trigger feature from the docs \n",
    "\n",
    "```yaml\n",
    "\"\n",
    "dayInMonth: \"FIRST\"\n",
    "```\n",
    "A schedule that runs daily at midnight US Eastern time.\n",
    "\n",
    "```yaml\n",
    "triggers:\n",
    "- id: daily\n",
    "type: io.kestra.plugin.core.trigger.Schedule\n",
    "cron: \"@daily\"\n",
    "timezone: America/New_York\n",
    "```"
   ]
  },
  {
   "cell_type": "markdown",
   "metadata": {},
   "source": [
    "So the correct answer is `timezone: America/New_York` - Option 2"
   ]
  }
 ],
 "metadata": {
  "language_info": {
   "name": "python"
  }
 },
 "nbformat": 4,
 "nbformat_minor": 2
}
