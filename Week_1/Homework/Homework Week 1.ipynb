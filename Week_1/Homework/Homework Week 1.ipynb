{
 "cells": [
  {
   "cell_type": "markdown",
   "metadata": {},
   "source": [
    "### Question 1"
   ]
  },
  {
   "cell_type": "markdown",
   "metadata": {},
   "source": [
    "Run docker with the python:3.12.8 image in an interactive mode, use the entrypoint bash.\\\n",
    "\n",
    "What's the version of pip in the image?"
   ]
  },
  {
   "cell_type": "markdown",
   "metadata": {},
   "source": [
    "!powershell docker run -it --entrypoint bash python:3.12.8"
   ]
  },
  {
   "cell_type": "markdown",
   "metadata": {},
   "source": [
    "The version is 24.3.1"
   ]
  },
  {
   "cell_type": "markdown",
   "metadata": {},
   "source": [
    "### Question 2"
   ]
  },
  {
   "cell_type": "markdown",
   "metadata": {},
   "source": [
    "Given the following docker-compose.yaml, what is the hostname and port that pgadmin should use to connect to the postgres database?\n",
    "\n",
    "```yaml\n",
    "services:\n",
    "  db:\n",
    "    container_name: postgres\n",
    "    image: postgres:17-alpine\n",
    "    environment:\n",
    "      POSTGRES_USER: 'postgres'\n",
    "      POSTGRES_PASSWORD: 'postgres'\n",
    "      POSTGRES_DB: 'ny_taxi'\n",
    "    ports:\n",
    "      - '5433:5432'\n",
    "    volumes:\n",
    "      - vol-pgdata:/var/lib/postgresql/data\n",
    "\n",
    "  pgadmin:\n",
    "    container_name: pgadmin\n",
    "    image: dpage/pgadmin4:latest\n",
    "    environment:\n",
    "      PGADMIN_DEFAULT_EMAIL: \"pgadmin@pgadmin.com\"\n",
    "      PGADMIN_DEFAULT_PASSWORD: \"pgadmin\"\n",
    "    ports:\n",
    "      - \"8080:80\"\n",
    "    volumes:\n",
    "      - vol-pgadmin_data:/var/lib/pgadmin  \n",
    "\n",
    "volumes:\n",
    "  vol-pgdata:\n",
    "    name: vol-pgdata\n",
    "  vol-pgadmin_data:\n",
    "    name: vol-pgadmin_data\n",
    "\n",
    "```\n"
   ]
  },
  {
   "cell_type": "markdown",
   "metadata": {},
   "source": [
    "PgAdmin should use the hostname db and port 5432 to connect to the postgres database."
   ]
  },
  {
   "cell_type": "markdown",
   "metadata": {},
   "source": [
    "### Question 3"
   ]
  },
  {
   "cell_type": "markdown",
   "metadata": {},
   "source": [
    "During the period of October 1st 2019 (inclusive) and November 1st 2019 (exclusive), how many trips, respectively, happened:"
   ]
  },
  {
   "cell_type": "markdown",
   "metadata": {},
   "source": [
    "```sql\n",
    "SELECT \n",
    "    CASE\n",
    "\t\tWHEN trip_distance <= 1 THEN 'Up to 1 mile'                                 \n",
    "        WHEN trip_distance >1 AND trip_distance <=3 THEN 'Between 1 and 3 miles'\n",
    "        WHEN trip_distance >3 AND trip_distance <=7 THEN 'Between 3 and 7 miles'\n",
    "\t\tWHEN trip_distance >7 AND trip_distance <=10 THEN 'Between 7 and 10 miles'\n",
    "        ELSE 'Over 10 miles'\n",
    "    END AS distance_range,\n",
    "    COUNT(*) AS trip_count\n",
    "FROM public.green_taxi_trips\n",
    "WHERE DATE(lpep_pickup_datetime) >= '2019-10-01' \n",
    "AND DATE(lpep_dropoff_datetime) < '2019-11-01' \n",
    "GROUP BY distance_range;\n",
    "```"
   ]
  },
  {
   "cell_type": "markdown",
   "metadata": {},
   "source": [
    "| Distance Range          | Trip Count |\n",
    "|-------------------------|------------|\n",
    "| Up to 1 mile            | 104802     |\n",
    "| Between 1 and 3 miles   | 198924     |\n",
    "| Between 3 and 7 miles   | 109603     |\n",
    "| Between 7 and 10 miles  | 27678      |\n",
    "| Over 10 miles           | 35189      |\n"
   ]
  },
  {
   "cell_type": "markdown",
   "metadata": {},
   "source": [
    "### Question 4"
   ]
  },
  {
   "cell_type": "markdown",
   "metadata": {},
   "source": [
    "Which was the pick up day with the longest trip distance? Use the pick up time for your calculations."
   ]
  },
  {
   "cell_type": "markdown",
   "metadata": {},
   "source": [
    "```sql\n",
    "\n",
    "WITH daily_longest_trip AS (\n",
    "    SELECT \n",
    "        CAST(lpep_pickup_datetime AS DATE) AS pickup_date,\n",
    "        MAX(trip_distance) AS max_trip_distance\n",
    "    FROM public.green_taxi_trips\n",
    "    WHERE DATE(lpep_pickup_datetime) >= '2019-10-01'\n",
    "      AND DATE(lpep_pickup_datetime) < '2019-11-01'\n",
    "    GROUP BY CAST(lpep_pickup_datetime AS DATE)\n",
    ")\n",
    "SELECT pickup_date, max_trip_distance\n",
    "FROM daily_longest_trip\n",
    "ORDER BY max_trip_distance DESC\n",
    "LIMIT 1;\n",
    "\n",
    "```"
   ]
  },
  {
   "cell_type": "markdown",
   "metadata": {},
   "source": [
    "| Pickup Date | Max Trip Distance |\n",
    "|-------------|-------------------|\n",
    "| 2019-10-31  | 515.89            |\n"
   ]
  },
  {
   "cell_type": "markdown",
   "metadata": {},
   "source": [
    "### Question 5"
   ]
  },
  {
   "cell_type": "markdown",
   "metadata": {},
   "source": [
    "Which were the top pickup locations with over 13,000 in total_amount (across all trips) for 2019-10-18?\n",
    "\n",
    "```sql\n",
    "SELECT \n",
    "    z.\"Zone\", \n",
    "    SUM(t.total_amount) AS total_amount\n",
    "FROM public.green_taxi_trips t\n",
    "JOIN public.taxi_zone_lookup z \n",
    "    ON t.\"PULocationID\" = z.\"LocationID\"\n",
    "WHERE DATE(t.lpep_pickup_datetime) = '2019-10-18'\n",
    "GROUP BY z.\"Zone\"\n",
    "HAVING SUM(t.total_amount) > 13000\n",
    "ORDER BY total_amount DESC;\n",
    "\n",
    "```"
   ]
  },
  {
   "cell_type": "markdown",
   "metadata": {},
   "source": [
    "| Zone               | Total Amount        |\n",
    "|--------------------|---------------------|\n",
    "| East Harlem North  | 18686.68            |\n",
    "| East Harlem South  | 16797.26            |\n",
    "| Morningside Heights| 13029.79            |"
   ]
  },
  {
   "cell_type": "markdown",
   "metadata": {},
   "source": [
    "### Question 6"
   ]
  },
  {
   "cell_type": "markdown",
   "metadata": {},
   "source": [
    "For the passengers picked up in October 2019 in the zone named \"East Harlem North\" which was the drop off zone that had the largest tip?\n",
    "\n",
    "```sql\n",
    "SELECT zdo.\"Zone\", MAX(tip_amount) AS total_tip\n",
    "\n",
    "FROM public.green_taxi_trips  g\n",
    "JOIN public.taxi_zone_lookup zpu ON g.\"PULocationID\"  = zpu.\"LocationID\"\n",
    "JOIN public.taxi_zone_lookup zdo ON g.\"DOLocationID\"  = zdo.\"LocationID\"\n",
    "\n",
    "WHERE CAST(lpep_pickup_datetime AS DATE) <= '2019-10-31'\n",
    "AND zpu.\"Zone\" = 'East Harlem North'\n",
    "\n",
    "GROUP BY zdo.\"Zone\"\n",
    "ORDER BY total_tip DESC\n",
    "LIMIT 1\n",
    "\n",
    "```"
   ]
  },
  {
   "cell_type": "markdown",
   "metadata": {},
   "source": [
    "| Dropoff Zone   | Total Tip |\n",
    "|--------------- |-----------|\n",
    "| JFK Airport    | 87.3      |\n"
   ]
  },
  {
   "cell_type": "markdown",
   "metadata": {},
   "source": [
    "### Question 7"
   ]
  },
  {
   "cell_type": "markdown",
   "metadata": {},
   "source": [
    "Which of the following sequences, respectively, describes the workflow for:\n",
    "\n",
    "Downloading the provider plugins and setting up backend,\\\n",
    "Generating proposed changes and auto-executing the plan\\\n",
    "Remove all resources managed by terraform"
   ]
  },
  {
   "cell_type": "markdown",
   "metadata": {},
   "source": [
    "The answer would be terraform init, terraform apply -auto-approve, terraform destroy which would be option 4\n"
   ]
  }
 ],
 "metadata": {
  "kernelspec": {
   "display_name": "Python 3",
   "language": "python",
   "name": "python3"
  },
  "language_info": {
   "codemirror_mode": {
    "name": "ipython",
    "version": 3
   },
   "file_extension": ".py",
   "mimetype": "text/x-python",
   "name": "python",
   "nbconvert_exporter": "python",
   "pygments_lexer": "ipython3",
   "version": "3.11.2"
  }
 },
 "nbformat": 4,
 "nbformat_minor": 2
}
